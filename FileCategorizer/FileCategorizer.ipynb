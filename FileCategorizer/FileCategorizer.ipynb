{
 "cells": [
  {
   "cell_type": "code",
   "execution_count": 34,
   "metadata": {},
   "outputs": [],
   "source": [
    "import os\n",
    "from pathlib import *\n",
    "import itertools\n",
    "import collections"
   ]
  },
  {
   "cell_type": "code",
   "execution_count": 70,
   "metadata": {},
   "outputs": [],
   "source": [
    "#list(p.glob('**/*.py')) - Listing Python source files in this directory tree\n",
    "# p.iterdir() - get all elements in folder\n",
    "#[x for x in p.iterdir() if x.is_dir()] - Listing subdirectories\n",
    "#[x for x in p.iterdir() if x.is_file()] - Listing files\n",
    "# path.suffix - shows extentions\n",
    "# Path.stem - The final path component, without its suffix\n",
    "\n",
    "# collections.Counter(p.suffix for p in pathlib.Path.cwd().iterdir()) - Count files group by extention\n",
    "\n",
    "def get_subdirs(directory: Path): return iter([x for x in directory.iterdir() if x.is_dir()])\n",
    "def get_all_subdirs(directory: Path): return iter([x for x in list(p.rglob('*')) if x.is_dir()])\n",
    "def get_dir_files(directory: Path): return iter([x for x in directory.iterdir() if x.is_file()])\n",
    "def get_all_dirs_and_files(directory: Path): return p.rglob('*')\n",
    "def get_all_files(directory: Path): return iter([x for x in list(p.rglob('*')) if x.is_file()])\n",
    "def tree(directory):\n",
    "    print(f'+ {directory}')\n",
    "    for path in sorted(directory.rglob('*')):\n",
    "        depth = len(path.relative_to(directory).parts)\n",
    "        spacer = '    ' * depth\n",
    "        print(f'{spacer}+ {path.name}')\n",
    "class FileAlreadyExists(Exception): pass\n",
    "def move_file(source, destination, ignor_if_exists=False):\n",
    "    try:\n",
    "        if not destination.exists() or ignor_if_exists:\n",
    "            source.replace(destination)\n",
    "        else: \n",
    "            print(\"WARNING! File\",destination,\"already exists.\")\n",
    "            raise FileAlreadyExists\n",
    "    except:\n",
    "        print(\"Failed to move\", source)\n",
    "        raise\n",
    "def safe_move_file(source, destination):\n",
    "    with destination.open(mode='xb') as fid:\n",
    "        fid.write(source.read_bytes())\n",
    "    delete(source)\n",
    "def safe_copy_file(source, destination):\n",
    "    with destination.open(mode='xb') as fid:\n",
    "        fid.write(source.read_bytes())\n",
    "def copy_file_with_overwrite(source, destination):\n",
    "    delete(destination, ignor_filenotfound=True)\n",
    "    with destination.open(mode='xb') as fid:\n",
    "        fid.write(source.read_bytes())\n",
    "def copy_tree():\n",
    "    pass\n",
    "def move_tree():\n",
    "    pass\n",
    "        \n",
    "def delete(path, ignor_filenotfound=False):\n",
    "    try:\n",
    "        if path.is_dir():\n",
    "            [delete(x) for x in get_dir_files(path)]\n",
    "            [delete(x) for x in get_subdirs(path)]\n",
    "            path.rmdir()\n",
    "        else:\n",
    "            path.unlink()\n",
    "    except FileNotFoundError:\n",
    "        if ignor_filenotfound: pass\n",
    "        else: raise\n",
    "    except:\n",
    "        print(\"Failed to delete\",path)\n",
    "        raise\n",
    "        \n",
    "class FoldersAlysis():\n",
    "    def __init__(directory):\n",
    "        \"Analyze paths in subdirs, build dictionary of words of dir names\"\n",
    "\n",
    "class FilesAlysis():\n",
    "    def __init__(directory):\n",
    "        \"Analyze file names in the dir, build dictionary of words of file names\"\n",
    "        \n",
    "class FileCategorizer():\n",
    "    def __init__(directory):\n",
    "        if directory.is_file(): print(\"Should be a directory.\"); return\n",
    "        folders = new FolderanAlysis(directory)\n",
    "        \n"
   ]
  },
  {
   "cell_type": "code",
   "execution_count": 49,
   "metadata": {},
   "outputs": [
    {
     "data": {
      "text/plain": [
       "1488"
      ]
     },
     "execution_count": 49,
     "metadata": {},
     "output_type": "execute_result"
    }
   ],
   "source": [
    "p = Path(\"F:/~Sort/~Python\")\n",
    "#all_folders = [x for x in p.iterdir() if x.is_dir()]\n",
    "#len(get_all_files(p))\n",
    "len(list(get_all_files(p)))"
   ]
  },
  {
   "cell_type": "code",
   "execution_count": 74,
   "metadata": {},
   "outputs": [],
   "source": [
    "#source = Path(\"C:/Users/Floki/Projects/FileCategorizer/test/1.txt\")\n",
    "#destination = Path(\"C:/Users/Floki/Projects/FileCategorizer/test/2.txt\")\n",
    "#safe_move_file(source,destination)\n",
    "\n",
    "#copy_file_with_overwrite(source, destination)\n"
   ]
  }
 ],
 "metadata": {
  "kernelspec": {
   "display_name": "Python 3",
   "language": "python",
   "name": "python3"
  },
  "language_info": {
   "codemirror_mode": {
    "name": "ipython",
    "version": 3
   },
   "file_extension": ".py",
   "mimetype": "text/x-python",
   "name": "python",
   "nbconvert_exporter": "python",
   "pygments_lexer": "ipython3",
   "version": "3.7.3"
  }
 },
 "nbformat": 4,
 "nbformat_minor": 2
}
